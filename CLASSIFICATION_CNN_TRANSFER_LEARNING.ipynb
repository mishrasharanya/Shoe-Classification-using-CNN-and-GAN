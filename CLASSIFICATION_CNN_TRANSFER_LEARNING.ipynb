{
  "metadata": {
    "kernelspec": {
      "language": "python",
      "display_name": "Python 3",
      "name": "python3"
    },
    "language_info": {
      "pygments_lexer": "ipython3",
      "nbconvert_exporter": "python",
      "version": "3.6.4",
      "file_extension": ".py",
      "codemirror_mode": {
        "name": "ipython",
        "version": 3
      },
      "name": "python",
      "mimetype": "text/x-python"
    },
    "colab": {
      "provenance": []
    }
  },
  "nbformat_minor": 0,
  "nbformat": 4,
  "cells": [
    {
      "cell_type": "code",
      "source": [
        "# This Python 3 environment comes with many helpful analytics libraries installed\n",
        "# It is defined by the kaggle/python Docker image: https://github.com/kaggle/docker-python\n",
        "# For example, here's several helpful packages to load\n",
        "\n",
        "import numpy as np # linear algebra\n",
        "import pandas as pd # data processing, CSV file I/O (e.g. pd.read_csv)\n",
        "\n",
        "# Input data files are available in the read-only \"../input/\" directory\n",
        "# For example, running this (by clicking run or pressing Shift+Enter) will list all files under the input directory\n",
        "\n",
        "import os\n",
        "for dirname, _, filenames in os.walk('/kaggle/input'):\n",
        "    for filename in filenames:\n",
        "        print(os.path.join(dirname, filename))\n",
        "\n",
        "# You can write up to 20GB to the current directory (/kaggle/working/) that gets preserved as output when you create a version using \"Save & Run All\" \n",
        "# You can also write temporary files to /kaggle/temp/, but they won't be saved outside of the current session"
      ],
      "metadata": {
        "_uuid": "8f2839f25d086af736a60e9eeb907d3b93b6e0e5",
        "_cell_guid": "b1076dfc-b9ad-4769-8c92-a6c4dae69d19",
        "execution": {
          "iopub.status.busy": "2022-10-21T18:15:13.156654Z",
          "iopub.execute_input": "2022-10-21T18:15:13.157960Z",
          "iopub.status.idle": "2022-10-21T18:15:13.415091Z",
          "shell.execute_reply.started": "2022-10-21T18:15:13.157839Z",
          "shell.execute_reply": "2022-10-21T18:15:13.414030Z"
        },
        "trusted": true,
        "id": "K4dWma2lB0hA"
      },
      "execution_count": null,
      "outputs": []
    },
    {
      "cell_type": "markdown",
      "source": [
        "**We'll be using CNN to implement our model.**"
      ],
      "metadata": {
        "id": "rww6ULNeB0hB"
      }
    },
    {
      "cell_type": "code",
      "source": [
        "pip install fastai==1.0.61"
      ],
      "metadata": {
        "execution": {
          "iopub.status.busy": "2022-10-21T18:15:13.416637Z",
          "iopub.execute_input": "2022-10-21T18:15:13.417917Z",
          "iopub.status.idle": "2022-10-21T18:15:44.250679Z",
          "shell.execute_reply.started": "2022-10-21T18:15:13.417813Z",
          "shell.execute_reply": "2022-10-21T18:15:44.248962Z"
        },
        "trusted": true,
        "id": "jtC3HvzIB0hC"
      },
      "execution_count": null,
      "outputs": []
    },
    {
      "cell_type": "code",
      "source": [
        "# Importing Libraries\n",
        "from tensorflow import keras\n",
        "from tensorflow.keras.applications.inception_v3 import InceptionV3\n",
        "from tensorflow.keras.preprocessing.image import ImageDataGenerator\n",
        "from tensorflow.keras.models import Sequential\n",
        "from tensorflow.keras.layers import Conv2D, Flatten, MaxPooling2D, Dense, Dropout, GlobalAveragePooling2D\n",
        "from tensorflow.keras import optimizers, losses\n",
        "from tensorflow.keras.callbacks import ModelCheckpoint\n",
        "from tensorflow.keras.preprocessing import image\n",
        "import pickle\n",
        "import numpy as np\n",
        "import pandas as pd\n",
        "\n",
        "import warnings\n",
        "warnings.filterwarnings(\"ignore\")\n",
        "\n",
        "from fastai import *\n",
        "from fastai.imports import *\n",
        "from fastai.vision import *\n",
        "from fastai.metrics import error_rate\n",
        "import os\n",
        "import pandas as pd\n",
        "import numpy as np\n",
        "import matplotlib.pyplot as plt\n",
        "import seaborn as sns\n",
        "import cv2\n",
        "\n",
        "np.random.seed(42)"
      ],
      "metadata": {
        "execution": {
          "iopub.status.busy": "2022-10-21T18:17:01.466438Z",
          "iopub.execute_input": "2022-10-21T18:17:01.467070Z",
          "iopub.status.idle": "2022-10-21T18:17:01.476075Z",
          "shell.execute_reply.started": "2022-10-21T18:17:01.467033Z",
          "shell.execute_reply": "2022-10-21T18:17:01.474965Z"
        },
        "trusted": true,
        "id": "nmzzzuzdB0hD"
      },
      "execution_count": null,
      "outputs": []
    },
    {
      "cell_type": "code",
      "source": [
        "# Base Path for all files\n",
        "base_dir = '../input/nike-adidas-shoes-for-image-classification-dataset/train'"
      ],
      "metadata": {
        "execution": {
          "iopub.status.busy": "2022-10-21T18:16:07.811369Z",
          "iopub.execute_input": "2022-10-21T18:16:07.811809Z",
          "iopub.status.idle": "2022-10-21T18:16:07.817155Z",
          "shell.execute_reply.started": "2022-10-21T18:16:07.811773Z",
          "shell.execute_reply": "2022-10-21T18:16:07.816159Z"
        },
        "trusted": true,
        "id": "BCdRbOutB0hD"
      },
      "execution_count": null,
      "outputs": []
    },
    {
      "cell_type": "markdown",
      "source": [
        "**DATA LOADING FOR TRAINING**"
      ],
      "metadata": {
        "id": "BQFaiibeB0hE"
      }
    },
    {
      "cell_type": "markdown",
      "source": [
        "SETTING PATH"
      ],
      "metadata": {
        "id": "j_1mr4tmB0hE"
      }
    },
    {
      "cell_type": "code",
      "source": [
        "x  = '../input/nike-adidas-and-converse-imaged/train'\n",
        "path = Path(x)\n",
        "path.ls()"
      ],
      "metadata": {
        "execution": {
          "iopub.status.busy": "2022-10-21T18:16:24.508750Z",
          "iopub.execute_input": "2022-10-21T18:16:24.509201Z",
          "iopub.status.idle": "2022-10-21T18:16:24.523857Z",
          "shell.execute_reply.started": "2022-10-21T18:16:24.509164Z",
          "shell.execute_reply": "2022-10-21T18:16:24.522739Z"
        },
        "trusted": true,
        "id": "De2FQnw3B0hE"
      },
      "execution_count": null,
      "outputs": []
    },
    {
      "cell_type": "markdown",
      "source": [
        "validation percentage will be 20%"
      ],
      "metadata": {
        "id": "lw5OTG2qB0hF"
      }
    },
    {
      "cell_type": "code",
      "source": [
        "np.random.seed(40)\n",
        "data =  ImageDataBunch.from_folder(path, train = '.', valid_pct=0.2,\n",
        "                                  ds_tfms=get_transforms(), size=224,\n",
        "                                  num_workers=4).normalize(imagenet_stats)"
      ],
      "metadata": {
        "execution": {
          "iopub.status.busy": "2022-10-21T18:17:09.367759Z",
          "iopub.execute_input": "2022-10-21T18:17:09.368620Z",
          "iopub.status.idle": "2022-10-21T18:17:10.250810Z",
          "shell.execute_reply.started": "2022-10-21T18:17:09.368574Z",
          "shell.execute_reply": "2022-10-21T18:17:10.249632Z"
        },
        "trusted": true,
        "id": "Z_3eyln8B0hF"
      },
      "execution_count": null,
      "outputs": []
    },
    {
      "cell_type": "markdown",
      "source": [
        "Our image dataset is stored as .jpg files in 2 different folders, with each folder bearing the name of model of the images contained in the folder. We use the ImageDataBunch.from_folder() function to load the images and assign labels the images based on the name of the folder they’re read from."
      ],
      "metadata": {
        "id": "lCHERm1KB0hF"
      }
    },
    {
      "cell_type": "code",
      "source": [
        "data.show_batch(rows=3, figsize=(7,6),recompute_scale_factor=True)"
      ],
      "metadata": {
        "execution": {
          "iopub.status.busy": "2022-10-21T18:18:27.663916Z",
          "iopub.execute_input": "2022-10-21T18:18:27.664332Z",
          "iopub.status.idle": "2022-10-21T18:18:29.468842Z",
          "shell.execute_reply.started": "2022-10-21T18:18:27.664294Z",
          "shell.execute_reply": "2022-10-21T18:18:29.467809Z"
        },
        "trusted": true,
        "id": "PabxEHQ_B0hK"
      },
      "execution_count": null,
      "outputs": []
    },
    {
      "cell_type": "code",
      "source": [
        "data"
      ],
      "metadata": {
        "execution": {
          "iopub.status.busy": "2022-10-21T18:20:10.170308Z",
          "iopub.execute_input": "2022-10-21T18:20:10.170739Z",
          "iopub.status.idle": "2022-10-21T18:20:10.268641Z",
          "shell.execute_reply.started": "2022-10-21T18:20:10.170706Z",
          "shell.execute_reply": "2022-10-21T18:20:10.267440Z"
        },
        "trusted": true,
        "id": "Vv5KXRsmB0hL"
      },
      "execution_count": null,
      "outputs": []
    },
    {
      "cell_type": "markdown",
      "source": [
        "data.classes= This gives the classes present in our training dataset"
      ],
      "metadata": {
        "id": "1XduUlwjB0hL"
      }
    },
    {
      "cell_type": "code",
      "source": [
        "print(data.classes)\n",
        "len(data.classes)\n",
        "data.c"
      ],
      "metadata": {
        "execution": {
          "iopub.status.busy": "2022-10-21T18:21:24.986733Z",
          "iopub.execute_input": "2022-10-21T18:21:24.987228Z",
          "iopub.status.idle": "2022-10-21T18:21:24.994793Z",
          "shell.execute_reply.started": "2022-10-21T18:21:24.987191Z",
          "shell.execute_reply": "2022-10-21T18:21:24.993934Z"
        },
        "trusted": true,
        "id": "dlXnUA8VB0hL"
      },
      "execution_count": null,
      "outputs": []
    },
    {
      "cell_type": "markdown",
      "source": [
        "We now use a pre-trained ResNet18 Convolutional Neural Net model, and use transfer learning to learn weights of only the last layer of the network.\n",
        "Why Transfer learning? Because with transfer learning, you begin with an existing (trained) neural network used for image recognition — and then tweak it a bit (or more) here and there to train a model for your particular use case. And why do we do that? Training a reasonable neural network would mean needing approximately 300,000 image samples, and to achieve really good performance, we’re going to need at least a million images.\n",
        "In our case, we have approximately 711 images in our training set — you have one guess to decide if that would have been enough if were to train a neural net from scratch.\n",
        "We use the create_cnn() function for loading a pre-trained ResNet18 network, that was trained on around a million images from the ImageNet database."
      ],
      "metadata": {
        "id": "sdZi908qB0hL"
      }
    },
    {
      "cell_type": "code",
      "source": [
        "learn = cnn_learner(data, models.resnet18, metrics=[accuracy], model_dir = Path('../kaggle/working'),path = Path(\".\"))"
      ],
      "metadata": {
        "execution": {
          "iopub.status.busy": "2022-10-21T18:22:54.642115Z",
          "iopub.execute_input": "2022-10-21T18:22:54.642552Z",
          "iopub.status.idle": "2022-10-21T18:23:01.169099Z",
          "shell.execute_reply.started": "2022-10-21T18:22:54.642515Z",
          "shell.execute_reply": "2022-10-21T18:23:01.167903Z"
        },
        "trusted": true,
        "id": "6MtLf-jfB0hM"
      },
      "execution_count": null,
      "outputs": []
    },
    {
      "cell_type": "markdown",
      "source": [
        "FINDING LR"
      ],
      "metadata": {
        "id": "-46UzXK9B0hM"
      }
    },
    {
      "cell_type": "code",
      "source": [
        "learn.lr_find()\n",
        "learn.recorder.plot(suggestions=True)"
      ],
      "metadata": {
        "execution": {
          "iopub.status.busy": "2022-10-21T18:23:18.607576Z",
          "iopub.execute_input": "2022-10-21T18:23:18.608020Z",
          "iopub.status.idle": "2022-10-21T18:32:05.033300Z",
          "shell.execute_reply.started": "2022-10-21T18:23:18.607984Z",
          "shell.execute_reply": "2022-10-21T18:32:05.032029Z"
        },
        "trusted": true,
        "id": "UkPuKFB-B0hM"
      },
      "execution_count": null,
      "outputs": []
    },
    {
      "cell_type": "markdown",
      "source": [
        "**TRAINING MODEL**"
      ],
      "metadata": {
        "id": "ElmyayDqB0hM"
      }
    },
    {
      "cell_type": "code",
      "source": [
        "lr1 = 1e-3\n",
        "lr2 = 1e-1\n",
        "learn.fit_one_cycle(40,slice(lr1,lr2))"
      ],
      "metadata": {
        "execution": {
          "iopub.status.busy": "2022-10-21T18:32:28.862141Z",
          "iopub.execute_input": "2022-10-21T18:32:28.862553Z"
        },
        "trusted": true,
        "id": "OPh839MkB0hM"
      },
      "execution_count": null,
      "outputs": []
    },
    {
      "cell_type": "markdown",
      "source": [
        "**HYPER PARAMETER TUNING**"
      ],
      "metadata": {
        "id": "1wNFNlAFB0hM"
      }
    },
    {
      "cell_type": "code",
      "source": [
        "learn.unfreeze()\n",
        "learn.fit_one_cycle(20,slice(1e-4,1e-3))"
      ],
      "metadata": {
        "trusted": true,
        "id": "xxO6kLWdB0hN"
      },
      "execution_count": null,
      "outputs": []
    },
    {
      "cell_type": "code",
      "source": [
        "learn.recorder.plot_losses()"
      ],
      "metadata": {
        "trusted": true,
        "id": "2XKbLLH6B0hN"
      },
      "execution_count": null,
      "outputs": []
    },
    {
      "cell_type": "markdown",
      "source": [
        "**INTERPRETTING THE RESULT**"
      ],
      "metadata": {
        "id": "GwElJvPpB0hN"
      }
    },
    {
      "cell_type": "markdown",
      "source": [
        "Model performance can be validated in different ways. One of the popular methods is using the confusion matrix. Diagonal values of the matrix indicate correct predictions for each class, whereas other cell values indicate a number of wrong predictions."
      ],
      "metadata": {
        "id": "pPwcvDIDB0hN"
      }
    },
    {
      "cell_type": "code",
      "source": [
        "interp = ClassificationInterpretation.from_learner(learn)\n",
        "interp.plot_confusion_matrix()"
      ],
      "metadata": {
        "trusted": true,
        "id": "YXN-11TCB0hN"
      },
      "execution_count": null,
      "outputs": []
    },
    {
      "cell_type": "code",
      "source": [
        "interp.plot_top_losses(3,figsize = (25,5))"
      ],
      "metadata": {
        "trusted": true,
        "id": "Vbb9SnSDB0hN"
      },
      "execution_count": null,
      "outputs": []
    },
    {
      "cell_type": "markdown",
      "source": [
        "**PREDICTION USING TRAINED MODEL**"
      ],
      "metadata": {
        "id": "B3L9m1UeB0hN"
      }
    },
    {
      "cell_type": "code",
      "source": [
        "img = open_image('../input/nike-adidas-and-converse-imaged/test/adidas/14.jpg')\n",
        "print(learn.predict(img)[0])"
      ],
      "metadata": {
        "trusted": true,
        "id": "i7ypugjQB0hN"
      },
      "execution_count": null,
      "outputs": []
    }
  ]
}